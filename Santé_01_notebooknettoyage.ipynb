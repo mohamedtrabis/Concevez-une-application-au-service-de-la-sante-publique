{
  "nbformat": 4,
  "nbformat_minor": 0,
  "metadata": {
    "colab": {
      "name": "Santé_01_notebooknettoyage.ipynb",
      "provenance": [],
      "collapsed_sections": []
    },
    "kernelspec": {
      "name": "python3",
      "display_name": "Python 3"
    },
    "language_info": {
      "name": "python"
    }
  },
  "cells": [
    {
      "cell_type": "markdown",
      "metadata": {
        "id": "nICpQGEJ_KhU"
      },
      "source": [
        "Importer les bibliothèques suivantes :"
      ]
    },
    {
      "cell_type": "code",
      "metadata": {
        "id": "5WbM7gXsxQQl"
      },
      "source": [
        "import pandas as pd\n",
        "import numpy as np\n",
        "\n",
        "import zipfile as zf\n",
        "import tarfile\n",
        "\n",
        "\n",
        "import matplotlib.pyplot as plt\n",
        "import seaborn as sns\n",
        "from matplotlib.ticker import AutoMinorLocator\n",
        "\n",
        "from numba import jit\n",
        "\n",
        "from sklearn.linear_model import LogisticRegression\n",
        "from sklearn.model_selection import train_test_split\n",
        "from sklearn.metrics import accuracy_score\n",
        "\n",
        "# from functools import reduce\n",
        "from urllib import request\n",
        "import os\n",
        "\n",
        "from PIL import Image\n",
        "import io, bson, multiprocessing"
      ],
      "execution_count": 1,
      "outputs": []
    },
    {
      "cell_type": "markdown",
      "metadata": {
        "id": "8d2rs5ZGKftA"
      },
      "source": [
        "Importer le fichier en local :"
      ]
    },
    {
      "cell_type": "code",
      "metadata": {
        "id": "hBda3siLyPKc",
        "colab": {
          "base_uri": "https://localhost:8080/"
        },
        "outputId": "3e3901a3-0b3d-419e-d249-fbf265ac15da"
      },
      "source": [
        "request.urlretrieve (\"https://static.openfoodfacts.org/data/en.openfoodfacts.org.products.csv\", \"en.openfoodfacts.org.products.csv\")"
      ],
      "execution_count": 2,
      "outputs": [
        {
          "output_type": "execute_result",
          "data": {
            "text/plain": [
              "('en.openfoodfacts.org.products.csv',\n",
              " <http.client.HTTPMessage at 0x7f325c2272d0>)"
            ]
          },
          "metadata": {},
          "execution_count": 2
        }
      ]
    },
    {
      "cell_type": "markdown",
      "metadata": {
        "id": "vtpfCCqPKmlA"
      },
      "source": [
        "Lire le fichier csv importé, et l'affecter à une DataFrames :"
      ]
    },
    {
      "cell_type": "code",
      "metadata": {
        "colab": {
          "base_uri": "https://localhost:8080/"
        },
        "id": "Ga1p8U2oefl7",
        "outputId": "d9308c83-425d-4379-e88a-9fadba94a4b5"
      },
      "source": [
        "df_food = pd.read_csv(\"en.openfoodfacts.org.products.csv\", sep='\\t')"
      ],
      "execution_count": 3,
      "outputs": [
        {
          "output_type": "stream",
          "name": "stderr",
          "text": [
            "/usr/local/lib/python3.7/dist-packages/IPython/core/interactiveshell.py:2718: DtypeWarning: Columns (0,8,13,22,23,27,28,29,31,38,52,55,64,75,77) have mixed types.Specify dtype option on import or set low_memory=False.\n",
            "  interactivity=interactivity, compiler=compiler, result=result)\n"
          ]
        }
      ]
    },
    {
      "cell_type": "markdown",
      "metadata": {
        "id": "XRbqf667KRio"
      },
      "source": [
        "Le nombre de lignes et de colonnnes du DataFrame"
      ]
    },
    {
      "cell_type": "code",
      "metadata": {
        "colab": {
          "base_uri": "https://localhost:8080/"
        },
        "id": "bRH1PDzblDur",
        "outputId": "cd3008c8-5172-4e43-e9ab-70cfb8032977"
      },
      "source": [
        "df_food.shape"
      ],
      "execution_count": 4,
      "outputs": [
        {
          "output_type": "execute_result",
          "data": {
            "text/plain": [
              "(1982821, 186)"
            ]
          },
          "metadata": {},
          "execution_count": 4
        }
      ]
    },
    {
      "cell_type": "markdown",
      "metadata": {
        "id": "PfDYaWKNKydn"
      },
      "source": [
        "Afficher les 5 dernière lignes"
      ]
    },
    {
      "cell_type": "code",
      "metadata": {
        "colab": {
          "base_uri": "https://localhost:8080/",
          "height": 507
        },
        "id": "55xWhKOKqW1-",
        "outputId": "4c7cfdb2-e59b-46cc-b7e1-6637a1f93fcf"
      },
      "source": [
        "df_food.tail(5)"
      ],
      "execution_count": 5,
      "outputs": [
        {
          "output_type": "execute_result",
          "data": {
            "text/html": [
              "<div>\n",
              "<style scoped>\n",
              "    .dataframe tbody tr th:only-of-type {\n",
              "        vertical-align: middle;\n",
              "    }\n",
              "\n",
              "    .dataframe tbody tr th {\n",
              "        vertical-align: top;\n",
              "    }\n",
              "\n",
              "    .dataframe thead th {\n",
              "        text-align: right;\n",
              "    }\n",
              "</style>\n",
              "<table border=\"1\" class=\"dataframe\">\n",
              "  <thead>\n",
              "    <tr style=\"text-align: right;\">\n",
              "      <th></th>\n",
              "      <th>code</th>\n",
              "      <th>url</th>\n",
              "      <th>creator</th>\n",
              "      <th>created_t</th>\n",
              "      <th>created_datetime</th>\n",
              "      <th>last_modified_t</th>\n",
              "      <th>last_modified_datetime</th>\n",
              "      <th>product_name</th>\n",
              "      <th>abbreviated_product_name</th>\n",
              "      <th>generic_name</th>\n",
              "      <th>quantity</th>\n",
              "      <th>packaging</th>\n",
              "      <th>packaging_tags</th>\n",
              "      <th>packaging_text</th>\n",
              "      <th>brands</th>\n",
              "      <th>brands_tags</th>\n",
              "      <th>categories</th>\n",
              "      <th>categories_tags</th>\n",
              "      <th>categories_en</th>\n",
              "      <th>origins</th>\n",
              "      <th>origins_tags</th>\n",
              "      <th>origins_en</th>\n",
              "      <th>manufacturing_places</th>\n",
              "      <th>manufacturing_places_tags</th>\n",
              "      <th>labels</th>\n",
              "      <th>labels_tags</th>\n",
              "      <th>labels_en</th>\n",
              "      <th>emb_codes</th>\n",
              "      <th>emb_codes_tags</th>\n",
              "      <th>first_packaging_code_geo</th>\n",
              "      <th>cities</th>\n",
              "      <th>cities_tags</th>\n",
              "      <th>purchase_places</th>\n",
              "      <th>stores</th>\n",
              "      <th>countries</th>\n",
              "      <th>countries_tags</th>\n",
              "      <th>countries_en</th>\n",
              "      <th>ingredients_text</th>\n",
              "      <th>allergens</th>\n",
              "      <th>allergens_en</th>\n",
              "      <th>...</th>\n",
              "      <th>folates_100g</th>\n",
              "      <th>vitamin-b12_100g</th>\n",
              "      <th>biotin_100g</th>\n",
              "      <th>pantothenic-acid_100g</th>\n",
              "      <th>silica_100g</th>\n",
              "      <th>bicarbonate_100g</th>\n",
              "      <th>potassium_100g</th>\n",
              "      <th>chloride_100g</th>\n",
              "      <th>calcium_100g</th>\n",
              "      <th>phosphorus_100g</th>\n",
              "      <th>iron_100g</th>\n",
              "      <th>magnesium_100g</th>\n",
              "      <th>zinc_100g</th>\n",
              "      <th>copper_100g</th>\n",
              "      <th>manganese_100g</th>\n",
              "      <th>fluoride_100g</th>\n",
              "      <th>selenium_100g</th>\n",
              "      <th>chromium_100g</th>\n",
              "      <th>molybdenum_100g</th>\n",
              "      <th>iodine_100g</th>\n",
              "      <th>caffeine_100g</th>\n",
              "      <th>taurine_100g</th>\n",
              "      <th>ph_100g</th>\n",
              "      <th>fruits-vegetables-nuts_100g</th>\n",
              "      <th>fruits-vegetables-nuts-dried_100g</th>\n",
              "      <th>fruits-vegetables-nuts-estimate_100g</th>\n",
              "      <th>collagen-meat-protein-ratio_100g</th>\n",
              "      <th>cocoa_100g</th>\n",
              "      <th>chlorophyl_100g</th>\n",
              "      <th>carbon-footprint_100g</th>\n",
              "      <th>carbon-footprint-from-meat-or-fish_100g</th>\n",
              "      <th>nutrition-score-fr_100g</th>\n",
              "      <th>nutrition-score-uk_100g</th>\n",
              "      <th>glycemic-index_100g</th>\n",
              "      <th>water-hardness_100g</th>\n",
              "      <th>choline_100g</th>\n",
              "      <th>phylloquinone_100g</th>\n",
              "      <th>beta-glucan_100g</th>\n",
              "      <th>inositol_100g</th>\n",
              "      <th>carnitine_100g</th>\n",
              "    </tr>\n",
              "  </thead>\n",
              "  <tbody>\n",
              "    <tr>\n",
              "      <th>1982816</th>\n",
              "      <td>9999999910128</td>\n",
              "      <td>http://world-en.openfoodfacts.org/product/9999...</td>\n",
              "      <td>kiliweb</td>\n",
              "      <td>1572513866</td>\n",
              "      <td>2019-10-31T09:24:26Z</td>\n",
              "      <td>1572513866</td>\n",
              "      <td>2019-10-31T09:24:26Z</td>\n",
              "      <td>Sandwich club Rillette poisson combava</td>\n",
              "      <td>NaN</td>\n",
              "      <td>NaN</td>\n",
              "      <td>NaN</td>\n",
              "      <td>NaN</td>\n",
              "      <td>NaN</td>\n",
              "      <td>NaN</td>\n",
              "      <td>NaN</td>\n",
              "      <td>NaN</td>\n",
              "      <td>NaN</td>\n",
              "      <td>NaN</td>\n",
              "      <td>NaN</td>\n",
              "      <td>NaN</td>\n",
              "      <td>NaN</td>\n",
              "      <td>NaN</td>\n",
              "      <td>NaN</td>\n",
              "      <td>NaN</td>\n",
              "      <td>NaN</td>\n",
              "      <td>NaN</td>\n",
              "      <td>NaN</td>\n",
              "      <td>NaN</td>\n",
              "      <td>NaN</td>\n",
              "      <td>NaN</td>\n",
              "      <td>NaN</td>\n",
              "      <td>NaN</td>\n",
              "      <td>NaN</td>\n",
              "      <td>NaN</td>\n",
              "      <td>en:re</td>\n",
              "      <td>en:reunion</td>\n",
              "      <td>Réunion</td>\n",
              "      <td>NaN</td>\n",
              "      <td>NaN</td>\n",
              "      <td>NaN</td>\n",
              "      <td>...</td>\n",
              "      <td>NaN</td>\n",
              "      <td>NaN</td>\n",
              "      <td>NaN</td>\n",
              "      <td>NaN</td>\n",
              "      <td>NaN</td>\n",
              "      <td>NaN</td>\n",
              "      <td>NaN</td>\n",
              "      <td>NaN</td>\n",
              "      <td>NaN</td>\n",
              "      <td>NaN</td>\n",
              "      <td>NaN</td>\n",
              "      <td>NaN</td>\n",
              "      <td>NaN</td>\n",
              "      <td>NaN</td>\n",
              "      <td>NaN</td>\n",
              "      <td>NaN</td>\n",
              "      <td>NaN</td>\n",
              "      <td>NaN</td>\n",
              "      <td>NaN</td>\n",
              "      <td>NaN</td>\n",
              "      <td>NaN</td>\n",
              "      <td>NaN</td>\n",
              "      <td>NaN</td>\n",
              "      <td>NaN</td>\n",
              "      <td>NaN</td>\n",
              "      <td>NaN</td>\n",
              "      <td>NaN</td>\n",
              "      <td>NaN</td>\n",
              "      <td>NaN</td>\n",
              "      <td>NaN</td>\n",
              "      <td>NaN</td>\n",
              "      <td>NaN</td>\n",
              "      <td>NaN</td>\n",
              "      <td>NaN</td>\n",
              "      <td>NaN</td>\n",
              "      <td>NaN</td>\n",
              "      <td>NaN</td>\n",
              "      <td>NaN</td>\n",
              "      <td>NaN</td>\n",
              "      <td>NaN</td>\n",
              "    </tr>\n",
              "    <tr>\n",
              "      <th>1982817</th>\n",
              "      <td>999999999</td>\n",
              "      <td>http://world-en.openfoodfacts.org/product/9999...</td>\n",
              "      <td>nutrinet-sante</td>\n",
              "      <td>1608105503</td>\n",
              "      <td>2020-12-16T07:58:23Z</td>\n",
              "      <td>1608105504</td>\n",
              "      <td>2020-12-16T07:58:24Z</td>\n",
              "      <td>Thé noir BIO Darjeeling</td>\n",
              "      <td>NaN</td>\n",
              "      <td>NaN</td>\n",
              "      <td>NaN</td>\n",
              "      <td>NaN</td>\n",
              "      <td>NaN</td>\n",
              "      <td>NaN</td>\n",
              "      <td>Pagès</td>\n",
              "      <td>pages</td>\n",
              "      <td>NaN</td>\n",
              "      <td>NaN</td>\n",
              "      <td>NaN</td>\n",
              "      <td>NaN</td>\n",
              "      <td>NaN</td>\n",
              "      <td>NaN</td>\n",
              "      <td>NaN</td>\n",
              "      <td>NaN</td>\n",
              "      <td>NaN</td>\n",
              "      <td>NaN</td>\n",
              "      <td>NaN</td>\n",
              "      <td>NaN</td>\n",
              "      <td>NaN</td>\n",
              "      <td>NaN</td>\n",
              "      <td>NaN</td>\n",
              "      <td>NaN</td>\n",
              "      <td>NaN</td>\n",
              "      <td>NaN</td>\n",
              "      <td>en:france</td>\n",
              "      <td>en:france</td>\n",
              "      <td>France</td>\n",
              "      <td>NaN</td>\n",
              "      <td>NaN</td>\n",
              "      <td>NaN</td>\n",
              "      <td>...</td>\n",
              "      <td>NaN</td>\n",
              "      <td>NaN</td>\n",
              "      <td>NaN</td>\n",
              "      <td>NaN</td>\n",
              "      <td>NaN</td>\n",
              "      <td>NaN</td>\n",
              "      <td>NaN</td>\n",
              "      <td>NaN</td>\n",
              "      <td>NaN</td>\n",
              "      <td>NaN</td>\n",
              "      <td>NaN</td>\n",
              "      <td>NaN</td>\n",
              "      <td>NaN</td>\n",
              "      <td>NaN</td>\n",
              "      <td>NaN</td>\n",
              "      <td>NaN</td>\n",
              "      <td>NaN</td>\n",
              "      <td>NaN</td>\n",
              "      <td>NaN</td>\n",
              "      <td>NaN</td>\n",
              "      <td>NaN</td>\n",
              "      <td>NaN</td>\n",
              "      <td>NaN</td>\n",
              "      <td>NaN</td>\n",
              "      <td>NaN</td>\n",
              "      <td>NaN</td>\n",
              "      <td>NaN</td>\n",
              "      <td>NaN</td>\n",
              "      <td>NaN</td>\n",
              "      <td>NaN</td>\n",
              "      <td>NaN</td>\n",
              "      <td>NaN</td>\n",
              "      <td>NaN</td>\n",
              "      <td>NaN</td>\n",
              "      <td>NaN</td>\n",
              "      <td>NaN</td>\n",
              "      <td>NaN</td>\n",
              "      <td>NaN</td>\n",
              "      <td>NaN</td>\n",
              "      <td>NaN</td>\n",
              "    </tr>\n",
              "    <tr>\n",
              "      <th>1982818</th>\n",
              "      <td>9999999990397</td>\n",
              "      <td>http://world-en.openfoodfacts.org/product/9999...</td>\n",
              "      <td>kiliweb</td>\n",
              "      <td>1581171613</td>\n",
              "      <td>2020-02-08T14:20:13Z</td>\n",
              "      <td>1582644247</td>\n",
              "      <td>2020-02-25T15:24:07Z</td>\n",
              "      <td>Fati</td>\n",
              "      <td>NaN</td>\n",
              "      <td>NaN</td>\n",
              "      <td>440 g</td>\n",
              "      <td>NaN</td>\n",
              "      <td>NaN</td>\n",
              "      <td>NaN</td>\n",
              "      <td>NaN</td>\n",
              "      <td>NaN</td>\n",
              "      <td>NaN</td>\n",
              "      <td>NaN</td>\n",
              "      <td>NaN</td>\n",
              "      <td>NaN</td>\n",
              "      <td>NaN</td>\n",
              "      <td>NaN</td>\n",
              "      <td>NaN</td>\n",
              "      <td>NaN</td>\n",
              "      <td>NaN</td>\n",
              "      <td>NaN</td>\n",
              "      <td>NaN</td>\n",
              "      <td>NaN</td>\n",
              "      <td>NaN</td>\n",
              "      <td>NaN</td>\n",
              "      <td>NaN</td>\n",
              "      <td>NaN</td>\n",
              "      <td>NaN</td>\n",
              "      <td>NaN</td>\n",
              "      <td>en:be</td>\n",
              "      <td>en:belgium</td>\n",
              "      <td>Belgium</td>\n",
              "      <td>NaN</td>\n",
              "      <td>NaN</td>\n",
              "      <td>NaN</td>\n",
              "      <td>...</td>\n",
              "      <td>NaN</td>\n",
              "      <td>NaN</td>\n",
              "      <td>NaN</td>\n",
              "      <td>NaN</td>\n",
              "      <td>NaN</td>\n",
              "      <td>NaN</td>\n",
              "      <td>NaN</td>\n",
              "      <td>NaN</td>\n",
              "      <td>NaN</td>\n",
              "      <td>NaN</td>\n",
              "      <td>NaN</td>\n",
              "      <td>NaN</td>\n",
              "      <td>NaN</td>\n",
              "      <td>NaN</td>\n",
              "      <td>NaN</td>\n",
              "      <td>NaN</td>\n",
              "      <td>NaN</td>\n",
              "      <td>NaN</td>\n",
              "      <td>NaN</td>\n",
              "      <td>NaN</td>\n",
              "      <td>NaN</td>\n",
              "      <td>NaN</td>\n",
              "      <td>NaN</td>\n",
              "      <td>NaN</td>\n",
              "      <td>NaN</td>\n",
              "      <td>NaN</td>\n",
              "      <td>NaN</td>\n",
              "      <td>NaN</td>\n",
              "      <td>NaN</td>\n",
              "      <td>NaN</td>\n",
              "      <td>NaN</td>\n",
              "      <td>NaN</td>\n",
              "      <td>NaN</td>\n",
              "      <td>NaN</td>\n",
              "      <td>NaN</td>\n",
              "      <td>NaN</td>\n",
              "      <td>NaN</td>\n",
              "      <td>NaN</td>\n",
              "      <td>NaN</td>\n",
              "      <td>NaN</td>\n",
              "    </tr>\n",
              "    <tr>\n",
              "      <th>1982819</th>\n",
              "      <td>9999999999994</td>\n",
              "      <td>http://world-en.openfoodfacts.org/product/9999...</td>\n",
              "      <td>kiliweb</td>\n",
              "      <td>1613129728</td>\n",
              "      <td>2021-02-12T11:35:28Z</td>\n",
              "      <td>1613129730</td>\n",
              "      <td>2021-02-12T11:35:30Z</td>\n",
              "      <td>Light &amp; Free SKYR A BOIRE</td>\n",
              "      <td>NaN</td>\n",
              "      <td>NaN</td>\n",
              "      <td>NaN</td>\n",
              "      <td>NaN</td>\n",
              "      <td>NaN</td>\n",
              "      <td>NaN</td>\n",
              "      <td>NaN</td>\n",
              "      <td>NaN</td>\n",
              "      <td>NaN</td>\n",
              "      <td>NaN</td>\n",
              "      <td>NaN</td>\n",
              "      <td>NaN</td>\n",
              "      <td>NaN</td>\n",
              "      <td>NaN</td>\n",
              "      <td>NaN</td>\n",
              "      <td>NaN</td>\n",
              "      <td>NaN</td>\n",
              "      <td>NaN</td>\n",
              "      <td>NaN</td>\n",
              "      <td>NaN</td>\n",
              "      <td>NaN</td>\n",
              "      <td>NaN</td>\n",
              "      <td>NaN</td>\n",
              "      <td>NaN</td>\n",
              "      <td>NaN</td>\n",
              "      <td>NaN</td>\n",
              "      <td>en:france</td>\n",
              "      <td>en:france</td>\n",
              "      <td>France</td>\n",
              "      <td>NaN</td>\n",
              "      <td>NaN</td>\n",
              "      <td>NaN</td>\n",
              "      <td>...</td>\n",
              "      <td>NaN</td>\n",
              "      <td>NaN</td>\n",
              "      <td>NaN</td>\n",
              "      <td>NaN</td>\n",
              "      <td>NaN</td>\n",
              "      <td>NaN</td>\n",
              "      <td>NaN</td>\n",
              "      <td>NaN</td>\n",
              "      <td>NaN</td>\n",
              "      <td>NaN</td>\n",
              "      <td>NaN</td>\n",
              "      <td>NaN</td>\n",
              "      <td>NaN</td>\n",
              "      <td>NaN</td>\n",
              "      <td>NaN</td>\n",
              "      <td>NaN</td>\n",
              "      <td>NaN</td>\n",
              "      <td>NaN</td>\n",
              "      <td>NaN</td>\n",
              "      <td>NaN</td>\n",
              "      <td>NaN</td>\n",
              "      <td>NaN</td>\n",
              "      <td>NaN</td>\n",
              "      <td>NaN</td>\n",
              "      <td>NaN</td>\n",
              "      <td>NaN</td>\n",
              "      <td>NaN</td>\n",
              "      <td>NaN</td>\n",
              "      <td>NaN</td>\n",
              "      <td>NaN</td>\n",
              "      <td>NaN</td>\n",
              "      <td>NaN</td>\n",
              "      <td>NaN</td>\n",
              "      <td>NaN</td>\n",
              "      <td>NaN</td>\n",
              "      <td>NaN</td>\n",
              "      <td>NaN</td>\n",
              "      <td>NaN</td>\n",
              "      <td>NaN</td>\n",
              "      <td>NaN</td>\n",
              "    </tr>\n",
              "    <tr>\n",
              "      <th>1982820</th>\n",
              "      <td>999999999999999</td>\n",
              "      <td>http://world-en.openfoodfacts.org/product/9999...</td>\n",
              "      <td>openfoodfacts-contributors</td>\n",
              "      <td>1587222660</td>\n",
              "      <td>2020-04-18T15:11:00Z</td>\n",
              "      <td>1605558295</td>\n",
              "      <td>2020-11-16T20:24:55Z</td>\n",
              "      <td>Signal Toothpaste</td>\n",
              "      <td>NaN</td>\n",
              "      <td>NaN</td>\n",
              "      <td>NaN</td>\n",
              "      <td>NaN</td>\n",
              "      <td>NaN</td>\n",
              "      <td>NaN</td>\n",
              "      <td>NaN</td>\n",
              "      <td>NaN</td>\n",
              "      <td>Non food products, Open Beauty Facts, Toothpaste</td>\n",
              "      <td>en:non-food-products,en:open-beauty-facts,en:t...</td>\n",
              "      <td>Non food products,Open Beauty Facts,Toothpaste</td>\n",
              "      <td>NaN</td>\n",
              "      <td>NaN</td>\n",
              "      <td>NaN</td>\n",
              "      <td>NaN</td>\n",
              "      <td>NaN</td>\n",
              "      <td>NaN</td>\n",
              "      <td>NaN</td>\n",
              "      <td>NaN</td>\n",
              "      <td>NaN</td>\n",
              "      <td>NaN</td>\n",
              "      <td>NaN</td>\n",
              "      <td>NaN</td>\n",
              "      <td>NaN</td>\n",
              "      <td>NaN</td>\n",
              "      <td>NaN</td>\n",
              "      <td>France</td>\n",
              "      <td>en:france</td>\n",
              "      <td>France</td>\n",
              "      <td>NaN</td>\n",
              "      <td>NaN</td>\n",
              "      <td>NaN</td>\n",
              "      <td>...</td>\n",
              "      <td>NaN</td>\n",
              "      <td>NaN</td>\n",
              "      <td>NaN</td>\n",
              "      <td>NaN</td>\n",
              "      <td>NaN</td>\n",
              "      <td>NaN</td>\n",
              "      <td>NaN</td>\n",
              "      <td>NaN</td>\n",
              "      <td>NaN</td>\n",
              "      <td>NaN</td>\n",
              "      <td>NaN</td>\n",
              "      <td>NaN</td>\n",
              "      <td>NaN</td>\n",
              "      <td>NaN</td>\n",
              "      <td>NaN</td>\n",
              "      <td>NaN</td>\n",
              "      <td>NaN</td>\n",
              "      <td>NaN</td>\n",
              "      <td>NaN</td>\n",
              "      <td>NaN</td>\n",
              "      <td>NaN</td>\n",
              "      <td>NaN</td>\n",
              "      <td>NaN</td>\n",
              "      <td>NaN</td>\n",
              "      <td>NaN</td>\n",
              "      <td>NaN</td>\n",
              "      <td>NaN</td>\n",
              "      <td>NaN</td>\n",
              "      <td>NaN</td>\n",
              "      <td>NaN</td>\n",
              "      <td>NaN</td>\n",
              "      <td>NaN</td>\n",
              "      <td>NaN</td>\n",
              "      <td>NaN</td>\n",
              "      <td>NaN</td>\n",
              "      <td>NaN</td>\n",
              "      <td>NaN</td>\n",
              "      <td>NaN</td>\n",
              "      <td>NaN</td>\n",
              "      <td>NaN</td>\n",
              "    </tr>\n",
              "  </tbody>\n",
              "</table>\n",
              "<p>5 rows × 186 columns</p>\n",
              "</div>"
            ],
            "text/plain": [
              "                    code  ... carnitine_100g\n",
              "1982816    9999999910128  ...            NaN\n",
              "1982817        999999999  ...            NaN\n",
              "1982818    9999999990397  ...            NaN\n",
              "1982819    9999999999994  ...            NaN\n",
              "1982820  999999999999999  ...            NaN\n",
              "\n",
              "[5 rows x 186 columns]"
            ]
          },
          "metadata": {},
          "execution_count": 5
        }
      ]
    },
    {
      "cell_type": "markdown",
      "metadata": {
        "id": "WuXGz13FK4vM"
      },
      "source": [
        "Créer un nouvelle DataFrame"
      ]
    },
    {
      "cell_type": "code",
      "metadata": {
        "id": "N-tnEw3bSbXB"
      },
      "source": [
        "df_food_drop = pd.DataFrame(df_food)"
      ],
      "execution_count": 6,
      "outputs": []
    },
    {
      "cell_type": "markdown",
      "metadata": {
        "id": "P9WijOjSah1c"
      },
      "source": [
        "Supprimer les colonnes avec 80% de valeurs manquantes"
      ]
    },
    {
      "cell_type": "code",
      "metadata": {
        "id": "7_Wmh7VsInci"
      },
      "source": [
        "index_names = (((df_food_drop.isna().sum()/df_food_drop.shape[0])*100))\n",
        "df_food_drop.drop(index_names[index_names>80].index, inplace=True, axis=1)"
      ],
      "execution_count": 7,
      "outputs": []
    },
    {
      "cell_type": "code",
      "metadata": {
        "colab": {
          "base_uri": "https://localhost:8080/"
        },
        "id": "qa0nbpbjQ7Gd",
        "outputId": "048ba073-2613-4eb3-8c2f-fcfb2b23bad4"
      },
      "source": [
        "df_food_drop.shape"
      ],
      "execution_count": 8,
      "outputs": [
        {
          "output_type": "execute_result",
          "data": {
            "text/plain": [
              "(1982821, 57)"
            ]
          },
          "metadata": {},
          "execution_count": 8
        }
      ]
    },
    {
      "cell_type": "markdown",
      "metadata": {
        "id": "tNkvIH8bLDQL"
      },
      "source": [
        "Conserver les produits vendus en france"
      ]
    },
    {
      "cell_type": "code",
      "metadata": {
        "id": "eU8sXYr9BTbg"
      },
      "source": [
        "df_food_fr = df_food_drop[df_food_drop['countries_en'] == 'France']"
      ],
      "execution_count": 9,
      "outputs": []
    },
    {
      "cell_type": "markdown",
      "metadata": {
        "id": "E4pNEHd_LOsY"
      },
      "source": [
        "Conserver les produits avec le \"Nutri-Score\" et le \"Groupe Nova\" rensignés, et conserver les 21 colonnes qui nous intéressent"
      ]
    },
    {
      "cell_type": "code",
      "metadata": {
        "id": "KjfZ_mXaZYtP"
      },
      "source": [
        "df_food_fr = pd.DataFrame(df_food_fr[df_food_fr['nutriscore_score'].notna()])\n",
        "df_food_fr = pd.DataFrame(df_food_fr[df_food_fr['nova_group'].notna()])\n",
        "\n",
        "df_food_fr = df_food_fr[['code', 'nova_group','image_small_url', 'categories', 'pnns_groups_1','pnns_groups_2', 'product_name', 'carbohydrates_100g', \n",
        "                         'energy-kcal_100g', 'energy_100g', 'sugars_100g', 'fat_100g','saturated-fat_100g', 'salt_100g','sodium_100g', 'fiber_100g', \n",
        "                         'proteins_100g', 'nutriscore_score', 'nutriscore_grade', 'ecoscore_score_fr', 'ecoscore_grade_fr']]\n",
        "                         \n",
        "# df_food_fr = df_food_fr.reset_index()\n",
        "#df_food_fr['index'] = df_food_fr.index.values"
      ],
      "execution_count": 10,
      "outputs": []
    },
    {
      "cell_type": "markdown",
      "metadata": {
        "id": "56Iqw3tbhHsS"
      },
      "source": [
        "Renomer les colonnes :\n",
        "\n",
        "*   \"energy-kcal_100g\" en \"energy_kcal_100g\"\n",
        "*   \"saturated-fat_100g\" en \"saturated_fat_100g\"\n",
        "\n"
      ]
    },
    {
      "cell_type": "code",
      "metadata": {
        "id": "Y7qsfNH9g-Ih"
      },
      "source": [
        "df_food_fr.rename(columns = {\"energy-kcal_100g\": \"energy_kcal_100g\", \n",
        "                     \"saturated-fat_100g\":\"saturated_fat_100g\"}, inplace=True)"
      ],
      "execution_count": 11,
      "outputs": []
    },
    {
      "cell_type": "markdown",
      "metadata": {
        "id": "K3wlXQ2vKOjF"
      },
      "source": [
        "Nous avons maintenant 128685 ligne et 21 colonnes"
      ]
    },
    {
      "cell_type": "code",
      "metadata": {
        "colab": {
          "base_uri": "https://localhost:8080/"
        },
        "id": "M0D4G6Lld7qM",
        "outputId": "2f3ace14-ee9e-4bc8-e12a-22bb62022893"
      },
      "source": [
        "df_food_fr.shape"
      ],
      "execution_count": 12,
      "outputs": [
        {
          "output_type": "execute_result",
          "data": {
            "text/plain": [
              "(131918, 21)"
            ]
          },
          "metadata": {},
          "execution_count": 12
        }
      ]
    },
    {
      "cell_type": "markdown",
      "metadata": {
        "id": "J6lG4u0zdtUi"
      },
      "source": [
        "Arrondissez les valeurs des colonnes à deux décimales"
      ]
    },
    {
      "cell_type": "code",
      "metadata": {
        "id": "4pgdUUUIcqYZ"
      },
      "source": [
        "pd.options.display.float_format = '{:.2f}'.format"
      ],
      "execution_count": 13,
      "outputs": []
    },
    {
      "cell_type": "markdown",
      "metadata": {
        "id": "xxhdZu7LMxab"
      },
      "source": [
        "Afficher diverses statistiques des données (Moyenne, Max, Min …etc) pour chaque colonne :"
      ]
    },
    {
      "cell_type": "code",
      "metadata": {
        "colab": {
          "base_uri": "https://localhost:8080/",
          "height": 310
        },
        "id": "rkEsyFMpSvoc",
        "outputId": "d077c16a-1902-43eb-8328-912b954328d2"
      },
      "source": [
        "df_food_fr.describe()"
      ],
      "execution_count": 14,
      "outputs": [
        {
          "output_type": "execute_result",
          "data": {
            "text/html": [
              "<div>\n",
              "<style scoped>\n",
              "    .dataframe tbody tr th:only-of-type {\n",
              "        vertical-align: middle;\n",
              "    }\n",
              "\n",
              "    .dataframe tbody tr th {\n",
              "        vertical-align: top;\n",
              "    }\n",
              "\n",
              "    .dataframe thead th {\n",
              "        text-align: right;\n",
              "    }\n",
              "</style>\n",
              "<table border=\"1\" class=\"dataframe\">\n",
              "  <thead>\n",
              "    <tr style=\"text-align: right;\">\n",
              "      <th></th>\n",
              "      <th>nova_group</th>\n",
              "      <th>carbohydrates_100g</th>\n",
              "      <th>energy_kcal_100g</th>\n",
              "      <th>sugars_100g</th>\n",
              "      <th>fat_100g</th>\n",
              "      <th>saturated_fat_100g</th>\n",
              "      <th>salt_100g</th>\n",
              "      <th>sodium_100g</th>\n",
              "      <th>fiber_100g</th>\n",
              "      <th>proteins_100g</th>\n",
              "      <th>nutriscore_score</th>\n",
              "      <th>ecoscore_score_fr</th>\n",
              "    </tr>\n",
              "  </thead>\n",
              "  <tbody>\n",
              "    <tr>\n",
              "      <th>count</th>\n",
              "      <td>131918.00</td>\n",
              "      <td>131498.00</td>\n",
              "      <td>113828.00</td>\n",
              "      <td>131558.00</td>\n",
              "      <td>131558.00</td>\n",
              "      <td>131561.00</td>\n",
              "      <td>131599.00</td>\n",
              "      <td>131599.00</td>\n",
              "      <td>69610.00</td>\n",
              "      <td>131561.00</td>\n",
              "      <td>131918.00</td>\n",
              "      <td>94701.00</td>\n",
              "    </tr>\n",
              "    <tr>\n",
              "      <th>mean</th>\n",
              "      <td>3.38</td>\n",
              "      <td>27.35</td>\n",
              "      <td>282.50</td>\n",
              "      <td>13.26</td>\n",
              "      <td>14.27</td>\n",
              "      <td>5.62</td>\n",
              "      <td>1.07</td>\n",
              "      <td>0.43</td>\n",
              "      <td>2.63</td>\n",
              "      <td>8.67</td>\n",
              "      <td>8.97</td>\n",
              "      <td>47.94</td>\n",
              "    </tr>\n",
              "    <tr>\n",
              "      <th>std</th>\n",
              "      <td>0.97</td>\n",
              "      <td>530.05</td>\n",
              "      <td>4034.61</td>\n",
              "      <td>76.67</td>\n",
              "      <td>81.67</td>\n",
              "      <td>9.95</td>\n",
              "      <td>38.69</td>\n",
              "      <td>15.48</td>\n",
              "      <td>3.89</td>\n",
              "      <td>201.40</td>\n",
              "      <td>8.93</td>\n",
              "      <td>27.11</td>\n",
              "    </tr>\n",
              "    <tr>\n",
              "      <th>min</th>\n",
              "      <td>1.00</td>\n",
              "      <td>-0.50</td>\n",
              "      <td>0.00</td>\n",
              "      <td>-0.50</td>\n",
              "      <td>0.00</td>\n",
              "      <td>0.00</td>\n",
              "      <td>0.00</td>\n",
              "      <td>0.00</td>\n",
              "      <td>0.00</td>\n",
              "      <td>0.00</td>\n",
              "      <td>-15.00</td>\n",
              "      <td>-28.00</td>\n",
              "    </tr>\n",
              "    <tr>\n",
              "      <th>25%</th>\n",
              "      <td>3.00</td>\n",
              "      <td>3.20</td>\n",
              "      <td>113.00</td>\n",
              "      <td>0.90</td>\n",
              "      <td>1.50</td>\n",
              "      <td>0.30</td>\n",
              "      <td>0.09</td>\n",
              "      <td>0.04</td>\n",
              "      <td>0.50</td>\n",
              "      <td>2.00</td>\n",
              "      <td>1.00</td>\n",
              "      <td>28.00</td>\n",
              "    </tr>\n",
              "    <tr>\n",
              "      <th>50%</th>\n",
              "      <td>4.00</td>\n",
              "      <td>14.00</td>\n",
              "      <td>248.00</td>\n",
              "      <td>3.60</td>\n",
              "      <td>8.00</td>\n",
              "      <td>2.20</td>\n",
              "      <td>0.60</td>\n",
              "      <td>0.24</td>\n",
              "      <td>1.60</td>\n",
              "      <td>6.10</td>\n",
              "      <td>9.00</td>\n",
              "      <td>45.00</td>\n",
              "    </tr>\n",
              "    <tr>\n",
              "      <th>75%</th>\n",
              "      <td>4.00</td>\n",
              "      <td>50.00</td>\n",
              "      <td>396.00</td>\n",
              "      <td>18.24</td>\n",
              "      <td>22.00</td>\n",
              "      <td>8.00</td>\n",
              "      <td>1.26</td>\n",
              "      <td>0.50</td>\n",
              "      <td>3.40</td>\n",
              "      <td>11.30</td>\n",
              "      <td>16.00</td>\n",
              "      <td>69.00</td>\n",
              "    </tr>\n",
              "    <tr>\n",
              "      <th>max</th>\n",
              "      <td>4.00</td>\n",
              "      <td>192000.00</td>\n",
              "      <td>1360000.00</td>\n",
              "      <td>27000.00</td>\n",
              "      <td>29000.00</td>\n",
              "      <td>2000.00</td>\n",
              "      <td>14000.00</td>\n",
              "      <td>5600.00</td>\n",
              "      <td>100.00</td>\n",
              "      <td>73000.00</td>\n",
              "      <td>40.00</td>\n",
              "      <td>125.00</td>\n",
              "    </tr>\n",
              "  </tbody>\n",
              "</table>\n",
              "</div>"
            ],
            "text/plain": [
              "       nova_group  carbohydrates_100g  ...  nutriscore_score  ecoscore_score_fr\n",
              "count   131918.00           131498.00  ...         131918.00           94701.00\n",
              "mean         3.38               27.35  ...              8.97              47.94\n",
              "std          0.97              530.05  ...              8.93              27.11\n",
              "min          1.00               -0.50  ...            -15.00             -28.00\n",
              "25%          3.00                3.20  ...              1.00              28.00\n",
              "50%          4.00               14.00  ...              9.00              45.00\n",
              "75%          4.00               50.00  ...             16.00              69.00\n",
              "max          4.00           192000.00  ...             40.00             125.00\n",
              "\n",
              "[8 rows x 12 columns]"
            ]
          },
          "metadata": {},
          "execution_count": 14
        }
      ]
    },
    {
      "cell_type": "markdown",
      "metadata": {
        "id": "rgYdoLPgM1XY"
      },
      "source": [
        "Convertir la colonne \"energy_100g\" en float"
      ]
    },
    {
      "cell_type": "code",
      "metadata": {
        "id": "Ak3sCEuKgZWW"
      },
      "source": [
        "df_food_fr[\"energy_100g\"] = df_food_fr[\"energy_100g\"].apply(float)"
      ],
      "execution_count": 15,
      "outputs": []
    },
    {
      "cell_type": "markdown",
      "metadata": {
        "id": "r4U1vrqQTLcU"
      },
      "source": [
        "Détecter et exclure les valeurs aberrantes dans la trame de données"
      ]
    },
    {
      "cell_type": "code",
      "metadata": {
        "colab": {
          "base_uri": "https://localhost:8080/",
          "height": 427
        },
        "id": "Z8kf6n3tZWaH",
        "outputId": "ec8cf103-387b-445c-9cf8-07862c2b3076"
      },
      "source": [
        "# Graph Nutriscore\n",
        "plt.figure(1)\n",
        "\n",
        "plt.subplot(121)\n",
        "fig = sns.distplot(df_food_fr['energy_100g'])\n",
        "\n",
        "\n",
        "plt.subplot(122)\n",
        "ax = df_food_fr['energy_100g'].plot.box(figsize=(16,5))\n",
        "\n",
        "ax.set_xticklabels([\"Energie (Kj)\"])\n",
        "\n",
        "plt.suptitle('Graphique - Energie (Kj)',fontsize=16)\n",
        "\n",
        "plt.xticks(fontsize=16)\n",
        "plt.yticks(fontsize=15)\n",
        "fig.set_xlabel('Energie (Kj)', fontsize=16)\n",
        "plt.show()"
      ],
      "execution_count": 16,
      "outputs": [
        {
          "output_type": "stream",
          "name": "stderr",
          "text": [
            "/usr/local/lib/python3.7/dist-packages/seaborn/distributions.py:2619: FutureWarning: `distplot` is a deprecated function and will be removed in a future version. Please adapt your code to use either `displot` (a figure-level function with similar flexibility) or `histplot` (an axes-level function for histograms).\n",
            "  warnings.warn(msg, FutureWarning)\n"
          ]
        },
        {
          "output_type": "display_data",
          "data": {
            "image/png": "[encoded data removed]",
            "text/plain": [
              "<Figure size 1152x360 with 2 Axes>"
            ]
          },
          "metadata": {
            "needs_background": "light"
          }
        }
      ]
    },
    {
      "cell_type": "markdown",
      "metadata": {
        "id": "V7pXuemnNA43"
      },
      "source": [
        "Calculer le dernier centile"
      ]
    },
    {
      "cell_type": "code",
      "metadata": {
        "colab": {
          "base_uri": "https://localhost:8080/"
        },
        "id": "lrdsSQ8zRl8n",
        "outputId": "b233388d-4c2b-493f-8268-8a8b6b4b1978"
      },
      "source": [
        "q = df_food_fr[\"energy_100g\"].quantile(0.99)\n",
        "q"
      ],
      "execution_count": 17,
      "outputs": [
        {
          "output_type": "execute_result",
          "data": {
            "text/plain": [
              "3117.0"
            ]
          },
          "metadata": {},
          "execution_count": 17
        }
      ]
    },
    {
      "cell_type": "markdown",
      "metadata": {
        "id": "yv_VEyfINQOr"
      },
      "source": [
        "Supprimer les valeurs qui sont inférieur au dernier centile"
      ]
    },
    {
      "cell_type": "code",
      "metadata": {
        "id": "9_aQ1zo2TyAt"
      },
      "source": [
        "df_food_fr = df_food_fr[df_food_fr[\"energy_100g\"]<q]"
      ],
      "execution_count": 18,
      "outputs": []
    },
    {
      "cell_type": "markdown",
      "metadata": {
        "id": "Ch8MF__RsCTW"
      },
      "source": [
        "Remplacer les 'nan' par 0"
      ]
    },
    {
      "cell_type": "code",
      "metadata": {
        "id": "WF7SJgizsBnx"
      },
      "source": [
        "columns = [\"sugars_100g\", 'saturated_fat_100g', 'salt_100g', 'sodium_100g', 'fiber_100g', 'proteins_100g','carbohydrates_100g', 'fat_100g']\n",
        "df_food_fr[columns] = df_food_fr[columns].fillna(value=0)"
      ],
      "execution_count": 19,
      "outputs": []
    },
    {
      "cell_type": "markdown",
      "metadata": {
        "id": "aRzoNmuCNas2"
      },
      "source": [
        "Pour les colonnes qui contiennent des valeurs nutritives pour 100g, nous conserverons les valeurs entre 0g et 100g."
      ]
    },
    {
      "cell_type": "code",
      "metadata": {
        "id": "vpQjJ8RmgEn5"
      },
      "source": [
        "filter = ((df_food_fr[columns] <= 100) & (df_food_fr[columns]>=0)).all(axis=1)\n",
        "df_food_fr = df_food_fr[filter]"
      ],
      "execution_count": 20,
      "outputs": []
    },
    {
      "cell_type": "code",
      "metadata": {
        "colab": {
          "base_uri": "https://localhost:8080/"
        },
        "id": "DWNLkY_HXx7s",
        "outputId": "de2665af-d212-4871-a9d7-1b0f87d07ff9"
      },
      "source": [
        "df_food_fr.shape"
      ],
      "execution_count": 21,
      "outputs": [
        {
          "output_type": "execute_result",
          "data": {
            "text/plain": [
              "(130233, 21)"
            ]
          },
          "metadata": {},
          "execution_count": 21
        }
      ]
    },
    {
      "cell_type": "markdown",
      "metadata": {
        "id": "1YlfF1-6Nq0t"
      },
      "source": [
        "Afficher diverses statistiques aprés la suppression des valeurs aberrantes"
      ]
    },
    {
      "cell_type": "code",
      "metadata": {
        "colab": {
          "base_uri": "https://localhost:8080/",
          "height": 310
        },
        "id": "z4yQPhm8fRch",
        "outputId": "3d213f36-ed44-49b7-e455-b50394adb4b9"
      },
      "source": [
        "df_food_fr.describe()"
      ],
      "execution_count": 22,
      "outputs": [
        {
          "output_type": "execute_result",
          "data": {
            "text/html": [
              "<div>\n",
              "<style scoped>\n",
              "    .dataframe tbody tr th:only-of-type {\n",
              "        vertical-align: middle;\n",
              "    }\n",
              "\n",
              "    .dataframe tbody tr th {\n",
              "        vertical-align: top;\n",
              "    }\n",
              "\n",
              "    .dataframe thead th {\n",
              "        text-align: right;\n",
              "    }\n",
              "</style>\n",
              "<table border=\"1\" class=\"dataframe\">\n",
              "  <thead>\n",
              "    <tr style=\"text-align: right;\">\n",
              "      <th></th>\n",
              "      <th>nova_group</th>\n",
              "      <th>carbohydrates_100g</th>\n",
              "      <th>energy_kcal_100g</th>\n",
              "      <th>energy_100g</th>\n",
              "      <th>sugars_100g</th>\n",
              "      <th>fat_100g</th>\n",
              "      <th>saturated_fat_100g</th>\n",
              "      <th>salt_100g</th>\n",
              "      <th>sodium_100g</th>\n",
              "      <th>fiber_100g</th>\n",
              "      <th>proteins_100g</th>\n",
              "      <th>nutriscore_score</th>\n",
              "      <th>ecoscore_score_fr</th>\n",
              "    </tr>\n",
              "  </thead>\n",
              "  <tbody>\n",
              "    <tr>\n",
              "      <th>count</th>\n",
              "      <td>130233.00</td>\n",
              "      <td>130233.00</td>\n",
              "      <td>112618.00</td>\n",
              "      <td>130233.00</td>\n",
              "      <td>130233.00</td>\n",
              "      <td>130233.00</td>\n",
              "      <td>130233.00</td>\n",
              "      <td>130233.00</td>\n",
              "      <td>130233.00</td>\n",
              "      <td>130233.00</td>\n",
              "      <td>130233.00</td>\n",
              "      <td>130233.00</td>\n",
              "      <td>93769.00</td>\n",
              "    </tr>\n",
              "    <tr>\n",
              "      <th>mean</th>\n",
              "      <td>3.40</td>\n",
              "      <td>26.09</td>\n",
              "      <td>263.72</td>\n",
              "      <td>1089.50</td>\n",
              "      <td>13.16</td>\n",
              "      <td>13.32</td>\n",
              "      <td>5.44</td>\n",
              "      <td>0.97</td>\n",
              "      <td>0.39</td>\n",
              "      <td>1.40</td>\n",
              "      <td>8.18</td>\n",
              "      <td>8.97</td>\n",
              "      <td>48.01</td>\n",
              "    </tr>\n",
              "    <tr>\n",
              "      <th>std</th>\n",
              "      <td>0.96</td>\n",
              "      <td>26.27</td>\n",
              "      <td>174.81</td>\n",
              "      <td>721.45</td>\n",
              "      <td>18.53</td>\n",
              "      <td>15.04</td>\n",
              "      <td>7.75</td>\n",
              "      <td>2.13</td>\n",
              "      <td>0.86</td>\n",
              "      <td>3.12</td>\n",
              "      <td>8.15</td>\n",
              "      <td>8.95</td>\n",
              "      <td>27.17</td>\n",
              "    </tr>\n",
              "    <tr>\n",
              "      <th>min</th>\n",
              "      <td>1.00</td>\n",
              "      <td>0.00</td>\n",
              "      <td>0.00</td>\n",
              "      <td>0.00</td>\n",
              "      <td>0.00</td>\n",
              "      <td>0.00</td>\n",
              "      <td>0.00</td>\n",
              "      <td>0.00</td>\n",
              "      <td>0.00</td>\n",
              "      <td>0.00</td>\n",
              "      <td>0.00</td>\n",
              "      <td>-15.00</td>\n",
              "      <td>-28.00</td>\n",
              "    </tr>\n",
              "    <tr>\n",
              "      <th>25%</th>\n",
              "      <td>3.00</td>\n",
              "      <td>3.40</td>\n",
              "      <td>112.00</td>\n",
              "      <td>464.00</td>\n",
              "      <td>0.90</td>\n",
              "      <td>1.40</td>\n",
              "      <td>0.30</td>\n",
              "      <td>0.10</td>\n",
              "      <td>0.04</td>\n",
              "      <td>0.00</td>\n",
              "      <td>2.10</td>\n",
              "      <td>1.00</td>\n",
              "      <td>28.00</td>\n",
              "    </tr>\n",
              "    <tr>\n",
              "      <th>50%</th>\n",
              "      <td>4.00</td>\n",
              "      <td>14.00</td>\n",
              "      <td>245.00</td>\n",
              "      <td>1008.00</td>\n",
              "      <td>3.70</td>\n",
              "      <td>7.90</td>\n",
              "      <td>2.10</td>\n",
              "      <td>0.60</td>\n",
              "      <td>0.24</td>\n",
              "      <td>0.00</td>\n",
              "      <td>6.10</td>\n",
              "      <td>9.00</td>\n",
              "      <td>45.00</td>\n",
              "    </tr>\n",
              "    <tr>\n",
              "      <th>75%</th>\n",
              "      <td>4.00</td>\n",
              "      <td>50.00</td>\n",
              "      <td>392.00</td>\n",
              "      <td>1625.00</td>\n",
              "      <td>19.00</td>\n",
              "      <td>21.70</td>\n",
              "      <td>7.70</td>\n",
              "      <td>1.27</td>\n",
              "      <td>0.51</td>\n",
              "      <td>1.80</td>\n",
              "      <td>11.50</td>\n",
              "      <td>16.00</td>\n",
              "      <td>69.00</td>\n",
              "    </tr>\n",
              "    <tr>\n",
              "      <th>max</th>\n",
              "      <td>4.00</td>\n",
              "      <td>100.00</td>\n",
              "      <td>2733.00</td>\n",
              "      <td>3116.00</td>\n",
              "      <td>100.00</td>\n",
              "      <td>100.00</td>\n",
              "      <td>81.70</td>\n",
              "      <td>100.00</td>\n",
              "      <td>49.99</td>\n",
              "      <td>100.00</td>\n",
              "      <td>95.00</td>\n",
              "      <td>40.00</td>\n",
              "      <td>125.00</td>\n",
              "    </tr>\n",
              "  </tbody>\n",
              "</table>\n",
              "</div>"
            ],
            "text/plain": [
              "       nova_group  carbohydrates_100g  ...  nutriscore_score  ecoscore_score_fr\n",
              "count   130233.00           130233.00  ...         130233.00           93769.00\n",
              "mean         3.40               26.09  ...              8.97              48.01\n",
              "std          0.96               26.27  ...              8.95              27.17\n",
              "min          1.00                0.00  ...            -15.00             -28.00\n",
              "25%          3.00                3.40  ...              1.00              28.00\n",
              "50%          4.00               14.00  ...              9.00              45.00\n",
              "75%          4.00               50.00  ...             16.00              69.00\n",
              "max          4.00              100.00  ...             40.00             125.00\n",
              "\n",
              "[8 rows x 13 columns]"
            ]
          },
          "metadata": {},
          "execution_count": 22
        }
      ]
    },
    {
      "cell_type": "markdown",
      "metadata": {
        "id": "z2xiwlMxs2Av"
      },
      "source": [
        "Afficher le taux des valeurs manquantes par colonne :"
      ]
    },
    {
      "cell_type": "code",
      "metadata": {
        "colab": {
          "base_uri": "https://localhost:8080/"
        },
        "id": "pt44SZNUdtZj",
        "outputId": "4e2eedc9-4ac9-4b6d-a976-b8e08c9f288e"
      },
      "source": [
        "(df_food_fr.isna().sum()/df_food_fr.shape[0])*100"
      ],
      "execution_count": 31,
      "outputs": [
        {
          "output_type": "execute_result",
          "data": {
            "text/plain": [
              "code                  0.00\n",
              "nova_group            0.00\n",
              "image_small_url       3.52\n",
              "categories            0.00\n",
              "pnns_groups_1         0.00\n",
              "pnns_groups_2         0.00\n",
              "product_name          0.19\n",
              "carbohydrates_100g    0.00\n",
              "energy_kcal_100g      0.00\n",
              "energy_100g           0.00\n",
              "sugars_100g           0.00\n",
              "fat_100g              0.00\n",
              "saturated_fat_100g    0.00\n",
              "salt_100g             0.00\n",
              "sodium_100g           0.00\n",
              "fiber_100g            0.00\n",
              "proteins_100g         0.00\n",
              "nutriscore_score      0.00\n",
              "nutriscore_grade      0.00\n",
              "ecoscore_score_fr    28.00\n",
              "ecoscore_grade_fr    28.00\n",
              "dtype: float64"
            ]
          },
          "metadata": {},
          "execution_count": 31
        }
      ]
    },
    {
      "cell_type": "markdown",
      "metadata": {
        "id": "UCZFnHdHdw8w"
      },
      "source": [
        "***Remarque*** : \n",
        "\n",
        "Nous constatons que le taux de valeurs manquantes de la colonne «energy-kcal_100g » est de 13.87 %.\n",
        "En effet la colonne «energy_100g » a un taux de valeurs manquantes de 0%, en sachant que  1 kJ = 0,2388 kcal, nous recalculons les valeurs de cette colonne pour éviter toutes incohérences : \n"
      ]
    },
    {
      "cell_type": "code",
      "metadata": {
        "id": "k2hoQpKgpfoi"
      },
      "source": [
        "df_food_fr['energy_kcal_100g'] = np.around(df_food_fr['energy_100g']*0.2388)"
      ],
      "execution_count": 24,
      "outputs": []
    },
    {
      "cell_type": "markdown",
      "metadata": {
        "id": "xKPNVFLcspl8"
      },
      "source": [
        "Afficher les catégories des aliments"
      ]
    },
    {
      "cell_type": "code",
      "metadata": {
        "colab": {
          "base_uri": "https://localhost:8080/"
        },
        "id": "5WrIU1dL20xp",
        "outputId": "3665b26c-bd10-4b3c-b31d-4709ece8cd94"
      },
      "source": [
        "df_food_fr['pnns_groups_2'].unique()"
      ],
      "execution_count": 30,
      "outputs": [
        {
          "output_type": "execute_result",
          "data": {
            "text/plain": [
              "array(['Bread', 'One-dish meals', 'Dairy desserts', 'Fruits', 'Sweets',\n",
              "       'unknown', 'Sweetened beverages', 'Dressings and sauces',\n",
              "       'Fish and seafood', 'Cheese', 'Biscuits and cakes', 'Appetizers',\n",
              "       'Vegetables', 'Meat', 'Salty and fatty products', 'Sandwiches',\n",
              "       'Legumes', 'Unsweetened beverages', 'Pizza pies and quiches',\n",
              "       'Breakfast cereals', 'Dried fruits', 'Processed meat', 'Pastries',\n",
              "       'Cereals', 'Soups', 'Milk and yogurt', 'Chocolate products',\n",
              "       'Plant-based milk substitutes', 'Artificially sweetened beverages',\n",
              "       'Waters and flavored waters', 'Nuts', 'Fats', 'Fruit juices',\n",
              "       'Teas and herbal teas and coffees', 'Ice cream', 'Potatoes',\n",
              "       'Offals', 'Alcoholic beverages', 'Eggs', 'Fruit nectars'],\n",
              "      dtype=object)"
            ]
          },
          "metadata": {},
          "execution_count": 30
        }
      ]
    },
    {
      "cell_type": "markdown",
      "metadata": {
        "id": "tqD-yG_2sgsr"
      },
      "source": [
        "Afficher le taux des valeurs manquantes par colonne :"
      ]
    },
    {
      "cell_type": "code",
      "metadata": {
        "colab": {
          "base_uri": "https://localhost:8080/"
        },
        "id": "Cx2FXg2lwGFB",
        "outputId": "3ca82f41-0a03-4d0f-c5c5-360791d51440"
      },
      "source": [
        "(df_food_fr.isna().sum()/df_food_fr.shape[0])*100"
      ],
      "execution_count": 26,
      "outputs": [
        {
          "output_type": "execute_result",
          "data": {
            "text/plain": [
              "code                  0.00\n",
              "nova_group            0.00\n",
              "image_small_url       3.52\n",
              "categories            0.00\n",
              "pnns_groups_1         0.00\n",
              "pnns_groups_2         0.00\n",
              "product_name          0.19\n",
              "carbohydrates_100g    0.00\n",
              "energy_kcal_100g      0.00\n",
              "energy_100g           0.00\n",
              "sugars_100g           0.00\n",
              "fat_100g              0.00\n",
              "saturated_fat_100g    0.00\n",
              "salt_100g             0.00\n",
              "sodium_100g           0.00\n",
              "fiber_100g            0.00\n",
              "proteins_100g         0.00\n",
              "nutriscore_score      0.00\n",
              "nutriscore_grade      0.00\n",
              "ecoscore_score_fr    28.00\n",
              "ecoscore_grade_fr    28.00\n",
              "dtype: float64"
            ]
          },
          "metadata": {},
          "execution_count": 26
        }
      ]
    },
    {
      "cell_type": "markdown",
      "metadata": {
        "id": "Iahdx8zmsTtn"
      },
      "source": [
        "Générer un fichier csv de la DataFrame \"df_food_fr\" :"
      ]
    },
    {
      "cell_type": "code",
      "metadata": {
        "id": "9yqG6sDp_wck"
      },
      "source": [
        "df_food_fr.to_csv('df_food_fr.csv')"
      ],
      "execution_count": 27,
      "outputs": []
    }
  ]
}